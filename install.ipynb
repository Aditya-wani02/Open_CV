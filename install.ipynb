{
 "cells": [
  {
   "cell_type": "markdown",
   "id": "5ecb5304",
   "metadata": {},
   "source": [
    "# Testing"
   ]
  },
  {
   "cell_type": "code",
   "execution_count": 1,
   "id": "4a91db29",
   "metadata": {},
   "outputs": [
    {
     "name": "stdout",
     "output_type": "stream",
     "text": [
      "Collecting opencv-python\n",
      "  Downloading opencv_python-4.8.0.74-cp37-abi3-win_amd64.whl (38.1 MB)\n",
      "     ---------------------------------------- 38.1/38.1 MB 5.1 MB/s eta 0:00:00\n",
      "Requirement already satisfied: numpy>=1.19.3 in c:\\users\\hp\\anaconda3\\lib\\site-packages (from opencv-python) (1.21.5)\n",
      "Installing collected packages: opencv-python\n",
      "Successfully installed opencv-python-4.8.0.74\n"
     ]
    }
   ],
   "source": [
    "! pip install opencv-python"
   ]
  },
  {
   "cell_type": "code",
   "execution_count": 2,
   "id": "ad6d25a1",
   "metadata": {},
   "outputs": [],
   "source": [
    "import cv2"
   ]
  },
  {
   "cell_type": "markdown",
   "id": "43320abc",
   "metadata": {},
   "source": [
    "# Sample"
   ]
  },
  {
   "cell_type": "code",
   "execution_count": 7,
   "id": "4cfbb8e7",
   "metadata": {},
   "outputs": [
    {
     "data": {
      "text/plain": [
       "'4.8.0'"
      ]
     },
     "execution_count": 7,
     "metadata": {},
     "output_type": "execute_result"
    }
   ],
   "source": [
    "cv2. __version__"
   ]
  },
  {
   "cell_type": "code",
   "execution_count": 3,
   "id": "915c5e27",
   "metadata": {},
   "outputs": [
    {
     "name": "stdout",
     "output_type": "stream",
     "text": [
      " This is a sample for histogram plotting for RGB images and grayscale images for better understanding of colour distribution"
     ]
    },
    {
     "name": "stderr",
     "output_type": "stream",
     "text": [
      "[ WARN:0@0.056] global samples.cpp:61 cv::samples::findFile cv::samples::findFile('lena.jpg') => 'C:\\Users\\HP\\Desktop\\ml\\Open_CV\\opencv-4.8.0\\opencv-4.8.0\\samples\\python/../..\\samples/data\\lena.jpg'\n"
     ]
    },
    {
     "name": "stdout",
     "output_type": "stream",
     "text": [
      "\n",
      "\n",
      "Benefit : Learn how to draw histogram of images\n",
      "          Get familier with cv.calcHist, cv.equalizeHist,cv.normalize and some drawing functions\n",
      "\n",
      "Level : Beginner or Intermediate\n",
      "\n",
      "Functions : 1) hist_curve : returns histogram of an image drawn as curves\n",
      "            2) hist_lines : return histogram of an image drawn as bins ( only for grayscale images )\n",
      "\n",
      "Usage : python hist.py <image_file>\n",
      "\n",
      "Abid Rahman 3/14/12 debug Gary Bradski\n",
      "\n",
      "usage : python hist.py <image_file>\n",
      " Histogram plotting \n",
      "\n",
      "    Keymap :\n",
      "\n",
      "    a - show histogram for color image in curve mode \n",
      "\n",
      "    b - show histogram in bin mode \n",
      "\n",
      "    c - show equalized histogram (always in bin mode) \n",
      "\n",
      "    d - show histogram for gray image in curve mode \n",
      "\n",
      "    e - show histogram for a normalized image in curve mode \n",
      "\n",
      "    Esc - exit \n",
      "\n",
      "    \n",
      "a\n",
      "a\n",
      "b\n",
      "hist_lines applicable only for grayscale images\n",
      "c\n",
      "d\n",
      "e\n",
      "a\n",
      "b\n",
      "hist_lines applicable only for grayscale images\n",
      "c\n",
      "d\n",
      "e\n",
      "a\n",
      "e\n",
      "d\n",
      "e\n",
      "d\n",
      "a\n",
      "e\n",
      "a\n",
      "e\n",
      "a\n",
      "c\n",
      "a\n",
      "c\n",
      "a\n",
      "c\n",
      "e\n",
      "a\n",
      "c\n",
      "e\n",
      "a\n",
      "c\n",
      "e\n",
      "a\n",
      "c\n",
      "ESC\n",
      "Done\n"
     ]
    }
   ],
   "source": [
    "! cd opencv-4.8.0/opencv-4.8.0/samples/python & python hist.py"
   ]
  },
  {
   "cell_type": "code",
   "execution_count": 9,
   "id": "4b63f446",
   "metadata": {},
   "outputs": [
    {
     "name": "stdout",
     "output_type": "stream",
     "text": [
      "\n",
      "example to show optical flow\n",
      "\n",
      "USAGE: opt_flow.py [<video_source>]\n",
      "\n",
      "Keys:\n",
      " 1 - toggle HSV flow visualization\n",
      " 2 - toggle glitch\n",
      "\n",
      "Keys:\n",
      "    ESC    - exit\n",
      "\n",
      "Done\n"
     ]
    }
   ],
   "source": [
    "! cd opencv-4.8.0/opencv-4.8.0/samples/python & python opt_flow.py "
   ]
  },
  {
   "cell_type": "code",
   "execution_count": 13,
   "id": "376d9020",
   "metadata": {},
   "outputs": [
    {
     "name": "stdout",
     "output_type": "stream",
     "text": [
      "\n",
      "example to detect upright people in images using HOG features\n",
      "\n",
      "Usage:\n",
      "    peopledetect.py <image_names>\n",
      "\n",
      "Press any key to continue, ESC to stop.\n",
      "\n",
      "C:\\Users\\HP\\Desktop\\ml\\Open_CV\\opencv-4.8.0\\opencv-4.8.0\\samples\\python/../..\\samples/data\\basketball2.png  - \n",
      "2 (2) found\n",
      "Done\n"
     ]
    },
    {
     "name": "stderr",
     "output_type": "stream",
     "text": [
      "[ WARN:0@0.127] global samples.cpp:61 cv::samples::findFile cv::samples::findFile('basketball2.png') => 'C:\\Users\\HP\\Desktop\\ml\\Open_CV\\opencv-4.8.0\\opencv-4.8.0\\samples\\python/../..\\samples/data\\basketball2.png'\n"
     ]
    }
   ],
   "source": [
    "! cd opencv-4.8.0/opencv-4.8.0/samples/python & python peopledetect.py "
   ]
  },
  {
   "cell_type": "code",
   "execution_count": null,
   "id": "907fe516",
   "metadata": {},
   "outputs": [],
   "source": []
  }
 ],
 "metadata": {
  "kernelspec": {
   "display_name": "Python 3 (ipykernel)",
   "language": "python",
   "name": "python3"
  },
  "language_info": {
   "codemirror_mode": {
    "name": "ipython",
    "version": 3
   },
   "file_extension": ".py",
   "mimetype": "text/x-python",
   "name": "python",
   "nbconvert_exporter": "python",
   "pygments_lexer": "ipython3",
   "version": "3.9.13"
  }
 },
 "nbformat": 4,
 "nbformat_minor": 5
}
